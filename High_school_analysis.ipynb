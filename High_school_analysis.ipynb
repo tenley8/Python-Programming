{
 "cells": [
  {
   "cell_type": "markdown",
   "metadata": {},
   "source": [
    "# High School Analysis\n",
    "- We are going to run an analysis of the data collected from High Schools\n",
    "- From the analysis we would be able to view the following\n",
    "- A high-level snapshot of the high school's key metrics, presented in a table format\n",
    "- A graphical analysis of the data\n",
    "\n",
    "# Import necessary libraries dependencies"
   ]
  },
  {
   "cell_type": "code",
   "execution_count": 1,
   "metadata": {},
   "outputs": [],
   "source": [
    "# Dependencies - file to load\n",
    "# Drop unnamed index column\n",
    "import pandas as pd\n",
    "import numpy as np\n",
    "import matplotlib.pyplot as plt\n",
    "grades = pd.read_csv(\"Resources/grades.csv\", index_col=0)"
   ]
  },
  {
   "cell_type": "markdown",
   "metadata": {},
   "source": [
    "# Statistical Overview of DataFrame"
   ]
  },
  {
   "cell_type": "code",
   "execution_count": 2,
   "metadata": {},
   "outputs": [
    {
     "data": {
      "text/html": [
       "<div>\n",
       "<style scoped>\n",
       "    .dataframe tbody tr th:only-of-type {\n",
       "        vertical-align: middle;\n",
       "    }\n",
       "\n",
       "    .dataframe tbody tr th {\n",
       "        vertical-align: top;\n",
       "    }\n",
       "\n",
       "    .dataframe thead th {\n",
       "        text-align: right;\n",
       "    }\n",
       "</style>\n",
       "<table border=\"1\" class=\"dataframe\">\n",
       "  <thead>\n",
       "    <tr style=\"text-align: right;\">\n",
       "      <th></th>\n",
       "      <th>Math</th>\n",
       "      <th>Science</th>\n",
       "      <th>English</th>\n",
       "      <th>History</th>\n",
       "      <th>size</th>\n",
       "      <th>budget</th>\n",
       "    </tr>\n",
       "  </thead>\n",
       "  <tbody>\n",
       "    <tr>\n",
       "      <th>count</th>\n",
       "      <td>18.00</td>\n",
       "      <td>18.00</td>\n",
       "      <td>18.00</td>\n",
       "      <td>18.00</td>\n",
       "      <td>18.00</td>\n",
       "      <td>18.00</td>\n",
       "    </tr>\n",
       "    <tr>\n",
       "      <th>mean</th>\n",
       "      <td>76.78</td>\n",
       "      <td>80.11</td>\n",
       "      <td>83.89</td>\n",
       "      <td>81.28</td>\n",
       "      <td>2644.33</td>\n",
       "      <td>1475455.94</td>\n",
       "    </tr>\n",
       "    <tr>\n",
       "      <th>std</th>\n",
       "      <td>12.18</td>\n",
       "      <td>12.50</td>\n",
       "      <td>11.05</td>\n",
       "      <td>12.43</td>\n",
       "      <td>1299.76</td>\n",
       "      <td>942024.21</td>\n",
       "    </tr>\n",
       "    <tr>\n",
       "      <th>min</th>\n",
       "      <td>56.00</td>\n",
       "      <td>56.00</td>\n",
       "      <td>60.00</td>\n",
       "      <td>54.00</td>\n",
       "      <td>427.00</td>\n",
       "      <td>248087.00</td>\n",
       "    </tr>\n",
       "    <tr>\n",
       "      <th>25%</th>\n",
       "      <td>66.00</td>\n",
       "      <td>76.00</td>\n",
       "      <td>77.00</td>\n",
       "      <td>76.00</td>\n",
       "      <td>1770.75</td>\n",
       "      <td>948907.50</td>\n",
       "    </tr>\n",
       "    <tr>\n",
       "      <th>50%</th>\n",
       "      <td>80.00</td>\n",
       "      <td>85.00</td>\n",
       "      <td>85.50</td>\n",
       "      <td>83.00</td>\n",
       "      <td>2566.00</td>\n",
       "      <td>1068978.00</td>\n",
       "    </tr>\n",
       "    <tr>\n",
       "      <th>75%</th>\n",
       "      <td>85.00</td>\n",
       "      <td>88.00</td>\n",
       "      <td>92.00</td>\n",
       "      <td>87.75</td>\n",
       "      <td>3209.25</td>\n",
       "      <td>1904079.00</td>\n",
       "    </tr>\n",
       "    <tr>\n",
       "      <th>max</th>\n",
       "      <td>93.00</td>\n",
       "      <td>94.00</td>\n",
       "      <td>96.00</td>\n",
       "      <td>99.00</td>\n",
       "      <td>4976.00</td>\n",
       "      <td>3124928.00</td>\n",
       "    </tr>\n",
       "  </tbody>\n",
       "</table>\n",
       "</div>"
      ],
      "text/plain": [
       "        Math  Science  English  History     size      budget\n",
       "count  18.00    18.00    18.00    18.00    18.00       18.00\n",
       "mean   76.78    80.11    83.89    81.28  2644.33  1475455.94\n",
       "std    12.18    12.50    11.05    12.43  1299.76   942024.21\n",
       "min    56.00    56.00    60.00    54.00   427.00   248087.00\n",
       "25%    66.00    76.00    77.00    76.00  1770.75   948907.50\n",
       "50%    80.00    85.00    85.50    83.00  2566.00  1068978.00\n",
       "75%    85.00    88.00    92.00    87.75  3209.25  1904079.00\n",
       "max    93.00    94.00    96.00    99.00  4976.00  3124928.00"
      ]
     },
     "execution_count": 2,
     "metadata": {},
     "output_type": "execute_result"
    }
   ],
   "source": [
    "# Display a statistical overview of the dataframe\n",
    "grades.describe().round(2)"
   ]
  },
  {
   "cell_type": "code",
   "execution_count": 3,
   "metadata": {},
   "outputs": [
    {
     "name": "stdout",
     "output_type": "stream",
     "text": [
      "<class 'pandas.core.frame.DataFrame'>\n",
      "Int64Index: 20 entries, 1 to 20\n",
      "Data columns (total 11 columns):\n",
      " #   Column        Non-Null Count  Dtype  \n",
      "---  ------        --------------  -----  \n",
      " 0   Math          18 non-null     float64\n",
      " 1   Science       18 non-null     float64\n",
      " 2   English       18 non-null     float64\n",
      " 3   History       18 non-null     float64\n",
      " 4   grade         18 non-null     object \n",
      " 5   school_name   18 non-null     object \n",
      " 6   student_name  20 non-null     object \n",
      " 7   gender        20 non-null     object \n",
      " 8   type          18 non-null     object \n",
      " 9   size          18 non-null     float64\n",
      " 10  budget        18 non-null     float64\n",
      "dtypes: float64(6), object(5)\n",
      "memory usage: 1.9+ KB\n"
     ]
    }
   ],
   "source": [
    "# Display the number of rows and columns, the data type of each column, the number of non-NaN elements, and the total memory usage.\n",
    "grades.info()"
   ]
  },
  {
   "cell_type": "markdown",
   "metadata": {},
   "source": [
    "# Cleaning Data"
   ]
  },
  {
   "cell_type": "code",
   "execution_count": 4,
   "metadata": {},
   "outputs": [
    {
     "data": {
      "text/plain": [
       "Math            18\n",
       "Science         18\n",
       "English         18\n",
       "History         18\n",
       "grade           18\n",
       "school_name     18\n",
       "student_name    20\n",
       "gender          20\n",
       "type            18\n",
       "size            18\n",
       "budget          18\n",
       "dtype: int64"
      ]
     },
     "execution_count": 4,
     "metadata": {},
     "output_type": "execute_result"
    }
   ],
   "source": [
    "# Determine if there are any missing values\n",
    "grades.count()"
   ]
  },
  {
   "cell_type": "code",
   "execution_count": 5,
   "metadata": {},
   "outputs": [],
   "source": [
    "# Drop missing values\n",
    "grades= grades.dropna(how='any')"
   ]
  },
  {
   "cell_type": "code",
   "execution_count": 6,
   "metadata": {},
   "outputs": [
    {
     "data": {
      "text/html": [
       "<div>\n",
       "<style scoped>\n",
       "    .dataframe tbody tr th:only-of-type {\n",
       "        vertical-align: middle;\n",
       "    }\n",
       "\n",
       "    .dataframe tbody tr th {\n",
       "        vertical-align: top;\n",
       "    }\n",
       "\n",
       "    .dataframe thead th {\n",
       "        text-align: right;\n",
       "    }\n",
       "</style>\n",
       "<table border=\"1\" class=\"dataframe\">\n",
       "  <thead>\n",
       "    <tr style=\"text-align: right;\">\n",
       "      <th></th>\n",
       "      <th>Math</th>\n",
       "      <th>Science</th>\n",
       "      <th>English</th>\n",
       "      <th>History</th>\n",
       "      <th>Grade</th>\n",
       "      <th>School Name</th>\n",
       "      <th>Student Name</th>\n",
       "      <th>gender</th>\n",
       "      <th>type</th>\n",
       "      <th>size</th>\n",
       "      <th>budget</th>\n",
       "    </tr>\n",
       "    <tr>\n",
       "      <th>0</th>\n",
       "      <th></th>\n",
       "      <th></th>\n",
       "      <th></th>\n",
       "      <th></th>\n",
       "      <th></th>\n",
       "      <th></th>\n",
       "      <th></th>\n",
       "      <th></th>\n",
       "      <th></th>\n",
       "      <th></th>\n",
       "      <th></th>\n",
       "    </tr>\n",
       "  </thead>\n",
       "  <tbody>\n",
       "    <tr>\n",
       "      <th>1</th>\n",
       "      <td>80.0</td>\n",
       "      <td>94.0</td>\n",
       "      <td>83.0</td>\n",
       "      <td>96.0</td>\n",
       "      <td>9th</td>\n",
       "      <td>Huang High School</td>\n",
       "      <td>Paul Bradley</td>\n",
       "      <td>M</td>\n",
       "      <td>District</td>\n",
       "      <td>2917.0</td>\n",
       "      <td>1910635.0</td>\n",
       "    </tr>\n",
       "    <tr>\n",
       "      <th>2</th>\n",
       "      <td>89.0</td>\n",
       "      <td>76.0</td>\n",
       "      <td>76.0</td>\n",
       "      <td>66.0</td>\n",
       "      <td>12th</td>\n",
       "      <td>Figueroa High School</td>\n",
       "      <td>Victor Smith</td>\n",
       "      <td>M</td>\n",
       "      <td>District</td>\n",
       "      <td>2949.0</td>\n",
       "      <td>1884411.0</td>\n",
       "    </tr>\n",
       "    <tr>\n",
       "      <th>3</th>\n",
       "      <td>93.0</td>\n",
       "      <td>88.0</td>\n",
       "      <td>93.0</td>\n",
       "      <td>76.0</td>\n",
       "      <td>12th</td>\n",
       "      <td>Shelton High School</td>\n",
       "      <td>Kevin Rodriguez</td>\n",
       "      <td>M</td>\n",
       "      <td>Charter</td>\n",
       "      <td>1761.0</td>\n",
       "      <td>1056600.0</td>\n",
       "    </tr>\n",
       "    <tr>\n",
       "      <th>4</th>\n",
       "      <td>66.0</td>\n",
       "      <td>78.0</td>\n",
       "      <td>96.0</td>\n",
       "      <td>85.0</td>\n",
       "      <td>12th</td>\n",
       "      <td>Hernandez High School</td>\n",
       "      <td>Dr. Richard Scott</td>\n",
       "      <td>M</td>\n",
       "      <td>District</td>\n",
       "      <td>4635.0</td>\n",
       "      <td>3022020.0</td>\n",
       "    </tr>\n",
       "    <tr>\n",
       "      <th>5</th>\n",
       "      <td>84.0</td>\n",
       "      <td>88.0</td>\n",
       "      <td>77.0</td>\n",
       "      <td>78.0</td>\n",
       "      <td>9th</td>\n",
       "      <td>Griffin High School</td>\n",
       "      <td>Bonnie Ray</td>\n",
       "      <td>F</td>\n",
       "      <td>Charter</td>\n",
       "      <td>1468.0</td>\n",
       "      <td>917500.0</td>\n",
       "    </tr>\n",
       "  </tbody>\n",
       "</table>\n",
       "</div>"
      ],
      "text/plain": [
       "   Math  Science  English  History Grade            School Name  \\\n",
       "0                                                                 \n",
       "1  80.0     94.0     83.0     96.0   9th      Huang High School   \n",
       "2  89.0     76.0     76.0     66.0  12th   Figueroa High School   \n",
       "3  93.0     88.0     93.0     76.0  12th    Shelton High School   \n",
       "4  66.0     78.0     96.0     85.0  12th  Hernandez High School   \n",
       "5  84.0     88.0     77.0     78.0   9th    Griffin High School   \n",
       "\n",
       "        Student Name gender      type    size     budget  \n",
       "0                                                         \n",
       "1       Paul Bradley      M  District  2917.0  1910635.0  \n",
       "2       Victor Smith      M  District  2949.0  1884411.0  \n",
       "3    Kevin Rodriguez      M   Charter  1761.0  1056600.0  \n",
       "4  Dr. Richard Scott      M  District  4635.0  3022020.0  \n",
       "5         Bonnie Ray      F   Charter  1468.0   917500.0  "
      ]
     },
     "execution_count": 6,
     "metadata": {},
     "output_type": "execute_result"
    }
   ],
   "source": [
    "# Cleanup and rename columns names to more explanatory names using a ditionary\n",
    "grades_df = grades.rename(columns={\"student_name\": 'Student Name',\"school_name\":'School Name',\"grade\":'Grade'})\n",
    "grades_df.head()"
   ]
  },
  {
   "cell_type": "markdown",
   "metadata": {},
   "source": [
    "# Rows and Columns Data"
   ]
  },
  {
   "cell_type": "code",
   "execution_count": 7,
   "metadata": {},
   "outputs": [
    {
     "name": "stdout",
     "output_type": "stream",
     "text": [
      "    Math  Science  English  History Grade          School Name  \\\n",
      "0                                                                \n",
      "1   80.0     94.0     83.0     96.0   9th    Huang High School   \n",
      "9   56.0     94.0     76.0     77.0   9th   Holden High School   \n",
      "13  66.0     88.0     85.0     76.0   9th  Johnson High School   \n",
      "\n",
      "       Student Name gender      type    size     budget  \n",
      "0                                                        \n",
      "1      Paul Bradley      M  District  2917.0  1910635.0  \n",
      "9      Michael Roth      M   Charter   427.0   248087.0  \n",
      "13  Brittney Walker      F  District  4761.0  3094650.0  \n",
      "   Math  Science  English  History Grade           School Name  \\\n",
      "0                                                                \n",
      "1  80.0     94.0     83.0     96.0   9th     Huang High School   \n",
      "2  89.0     76.0     76.0     66.0  12th  Figueroa High School   \n",
      "3  93.0     88.0     93.0     76.0  12th   Shelton High School   \n",
      "\n",
      "      Student Name gender      type    size     budget  \n",
      "0                                                       \n",
      "1     Paul Bradley      M  District  2917.0  1910635.0  \n",
      "2     Victor Smith      M  District  2949.0  1884411.0  \n",
      "3  Kevin Rodriguez      M   Charter  1761.0  1056600.0  \n"
     ]
    }
   ],
   "source": [
    "# Display the 1st, 9th, 13th row information\n",
    "# Display rows 0 to 3\n",
    "test1=grades_df.iloc[[0,8,12,]]\n",
    "test2=grades_df.iloc[0:3]\n",
    "print(test1)\n",
    "print(test2)"
   ]
  },
  {
   "cell_type": "code",
   "execution_count": 8,
   "metadata": {},
   "outputs": [
    {
     "data": {
      "text/plain": [
       "0\n",
       "1    80.0\n",
       "2    89.0\n",
       "3    93.0\n",
       "4    66.0\n",
       "5    84.0\n",
       "Name: Math, dtype: float64"
      ]
     },
     "execution_count": 8,
     "metadata": {},
     "output_type": "execute_result"
    }
   ],
   "source": [
    "# Print the data from the the first column\n",
    "grades_df.iloc[:,0].head()"
   ]
  },
  {
   "cell_type": "code",
   "execution_count": 9,
   "metadata": {},
   "outputs": [
    {
     "data": {
      "text/html": [
       "<div>\n",
       "<style scoped>\n",
       "    .dataframe tbody tr th:only-of-type {\n",
       "        vertical-align: middle;\n",
       "    }\n",
       "\n",
       "    .dataframe tbody tr th {\n",
       "        vertical-align: top;\n",
       "    }\n",
       "\n",
       "    .dataframe thead th {\n",
       "        text-align: right;\n",
       "    }\n",
       "</style>\n",
       "<table border=\"1\" class=\"dataframe\">\n",
       "  <thead>\n",
       "    <tr style=\"text-align: right;\">\n",
       "      <th></th>\n",
       "      <th>Science</th>\n",
       "      <th>History</th>\n",
       "      <th>School Name</th>\n",
       "    </tr>\n",
       "    <tr>\n",
       "      <th>0</th>\n",
       "      <th></th>\n",
       "      <th></th>\n",
       "      <th></th>\n",
       "    </tr>\n",
       "  </thead>\n",
       "  <tbody>\n",
       "    <tr>\n",
       "      <th>1</th>\n",
       "      <td>94.0</td>\n",
       "      <td>96.0</td>\n",
       "      <td>Huang High School</td>\n",
       "    </tr>\n",
       "    <tr>\n",
       "      <th>3</th>\n",
       "      <td>88.0</td>\n",
       "      <td>76.0</td>\n",
       "      <td>Shelton High School</td>\n",
       "    </tr>\n",
       "    <tr>\n",
       "      <th>4</th>\n",
       "      <td>78.0</td>\n",
       "      <td>85.0</td>\n",
       "      <td>Hernandez High School</td>\n",
       "    </tr>\n",
       "  </tbody>\n",
       "</table>\n",
       "</div>"
      ],
      "text/plain": [
       "   Science  History            School Name\n",
       "0                                         \n",
       "1     94.0     96.0      Huang High School\n",
       "3     88.0     76.0    Shelton High School\n",
       "4     78.0     85.0  Hernandez High School"
      ]
     },
     "execution_count": 9,
     "metadata": {},
     "output_type": "execute_result"
    }
   ],
   "source": [
    "# Display the data from the 2nd, 4th, and 6th columns showing rows 1,3 and 4\n",
    "grades_df.loc[[1,3,4],[\"Science\",\"History\",\"School Name\"]]"
   ]
  },
  {
   "cell_type": "code",
   "execution_count": 10,
   "metadata": {},
   "outputs": [
    {
     "data": {
      "text/html": [
       "<div>\n",
       "<style scoped>\n",
       "    .dataframe tbody tr th:only-of-type {\n",
       "        vertical-align: middle;\n",
       "    }\n",
       "\n",
       "    .dataframe tbody tr th {\n",
       "        vertical-align: top;\n",
       "    }\n",
       "\n",
       "    .dataframe thead th {\n",
       "        text-align: right;\n",
       "    }\n",
       "</style>\n",
       "<table border=\"1\" class=\"dataframe\">\n",
       "  <thead>\n",
       "    <tr style=\"text-align: right;\">\n",
       "      <th></th>\n",
       "      <th>Math</th>\n",
       "      <th>Science</th>\n",
       "      <th>English</th>\n",
       "    </tr>\n",
       "    <tr>\n",
       "      <th>0</th>\n",
       "      <th></th>\n",
       "      <th></th>\n",
       "      <th></th>\n",
       "    </tr>\n",
       "  </thead>\n",
       "  <tbody>\n",
       "    <tr>\n",
       "      <th>14</th>\n",
       "      <td>84.0</td>\n",
       "      <td>92.0</td>\n",
       "      <td>92.0</td>\n",
       "    </tr>\n",
       "    <tr>\n",
       "      <th>15</th>\n",
       "      <td>85.0</td>\n",
       "      <td>60.0</td>\n",
       "      <td>60.0</td>\n",
       "    </tr>\n",
       "    <tr>\n",
       "      <th>16</th>\n",
       "      <td>74.0</td>\n",
       "      <td>85.0</td>\n",
       "      <td>92.0</td>\n",
       "    </tr>\n",
       "    <tr>\n",
       "      <th>17</th>\n",
       "      <td>64.0</td>\n",
       "      <td>56.0</td>\n",
       "      <td>91.0</td>\n",
       "    </tr>\n",
       "    <tr>\n",
       "      <th>18</th>\n",
       "      <td>56.0</td>\n",
       "      <td>64.0</td>\n",
       "      <td>86.0</td>\n",
       "    </tr>\n",
       "  </tbody>\n",
       "</table>\n",
       "</div>"
      ],
      "text/plain": [
       "    Math  Science  English\n",
       "0                         \n",
       "14  84.0     92.0     92.0\n",
       "15  85.0     60.0     60.0\n",
       "16  74.0     85.0     92.0\n",
       "17  64.0     56.0     91.0\n",
       "18  56.0     64.0     86.0"
      ]
     },
     "execution_count": 10,
     "metadata": {},
     "output_type": "execute_result"
    }
   ],
   "source": [
    "# Print data from the first three coluns showing last five rows\n",
    "grades_df.iloc[:, 0:3].tail()"
   ]
  },
  {
   "cell_type": "code",
   "execution_count": 11,
   "metadata": {},
   "outputs": [
    {
     "data": {
      "text/plain": [
       "0\n",
       "1    94.0\n",
       "2    76.0\n",
       "3    88.0\n",
       "4    78.0\n",
       "5    88.0\n",
       "Name: Science, dtype: float64"
      ]
     },
     "execution_count": 11,
     "metadata": {},
     "output_type": "execute_result"
    }
   ],
   "source": [
    "# Display first five rows in the second column\n",
    "grades_df.iloc[:, 1].head()"
   ]
  },
  {
   "cell_type": "code",
   "execution_count": 12,
   "metadata": {},
   "outputs": [
    {
     "data": {
      "text/html": [
       "<div>\n",
       "<style scoped>\n",
       "    .dataframe tbody tr th:only-of-type {\n",
       "        vertical-align: middle;\n",
       "    }\n",
       "\n",
       "    .dataframe tbody tr th {\n",
       "        vertical-align: top;\n",
       "    }\n",
       "\n",
       "    .dataframe thead th {\n",
       "        text-align: right;\n",
       "    }\n",
       "</style>\n",
       "<table border=\"1\" class=\"dataframe\">\n",
       "  <thead>\n",
       "    <tr style=\"text-align: right;\">\n",
       "      <th></th>\n",
       "      <th>Math</th>\n",
       "      <th>Science</th>\n",
       "      <th>English</th>\n",
       "      <th>History</th>\n",
       "      <th>Grade</th>\n",
       "      <th>School Name</th>\n",
       "      <th>Student Name</th>\n",
       "      <th>gender</th>\n",
       "      <th>type</th>\n",
       "      <th>size</th>\n",
       "      <th>budget</th>\n",
       "    </tr>\n",
       "    <tr>\n",
       "      <th>0</th>\n",
       "      <th></th>\n",
       "      <th></th>\n",
       "      <th></th>\n",
       "      <th></th>\n",
       "      <th></th>\n",
       "      <th></th>\n",
       "      <th></th>\n",
       "      <th></th>\n",
       "      <th></th>\n",
       "      <th></th>\n",
       "      <th></th>\n",
       "    </tr>\n",
       "  </thead>\n",
       "  <tbody>\n",
       "    <tr>\n",
       "      <th>2</th>\n",
       "      <td>89.0</td>\n",
       "      <td>76.0</td>\n",
       "      <td>76.0</td>\n",
       "      <td>66.0</td>\n",
       "      <td>12th</td>\n",
       "      <td>Figueroa High School</td>\n",
       "      <td>Victor Smith</td>\n",
       "      <td>M</td>\n",
       "      <td>District</td>\n",
       "      <td>2949.0</td>\n",
       "      <td>1884411.0</td>\n",
       "    </tr>\n",
       "    <tr>\n",
       "      <th>4</th>\n",
       "      <td>66.0</td>\n",
       "      <td>78.0</td>\n",
       "      <td>96.0</td>\n",
       "      <td>85.0</td>\n",
       "      <td>12th</td>\n",
       "      <td>Hernandez High School</td>\n",
       "      <td>Dr. Richard Scott</td>\n",
       "      <td>M</td>\n",
       "      <td>District</td>\n",
       "      <td>4635.0</td>\n",
       "      <td>3022020.0</td>\n",
       "    </tr>\n",
       "  </tbody>\n",
       "</table>\n",
       "</div>"
      ],
      "text/plain": [
       "   Math  Science  English  History Grade            School Name  \\\n",
       "0                                                                 \n",
       "2  89.0     76.0     76.0     66.0  12th   Figueroa High School   \n",
       "4  66.0     78.0     96.0     85.0  12th  Hernandez High School   \n",
       "\n",
       "        Student Name gender      type    size     budget  \n",
       "0                                                         \n",
       "2       Victor Smith      M  District  2949.0  1884411.0  \n",
       "4  Dr. Richard Scott      M  District  4635.0  3022020.0  "
      ]
     },
     "execution_count": 12,
     "metadata": {},
     "output_type": "execute_result"
    }
   ],
   "source": [
    "# Print row 1 and row 3 with all columns\n",
    "grades_df.iloc[[1,3], :]"
   ]
  },
  {
   "cell_type": "code",
   "execution_count": 13,
   "metadata": {},
   "outputs": [
    {
     "data": {
      "text/plain": [
       "'Dr. Richard Scott'"
      ]
     },
     "execution_count": 13,
     "metadata": {},
     "output_type": "execute_result"
    }
   ],
   "source": [
    "# Display the name 'Dr. Richard Scott' (4th row 7th column)\n",
    "grades_df.iloc[3,6]"
   ]
  },
  {
   "cell_type": "markdown",
   "metadata": {},
   "source": [
    "# Grades Summary\n",
    "- Highest grades for grade 12\n",
    "- Lowest grades for grade 9"
   ]
  },
  {
   "cell_type": "code",
   "execution_count": 14,
   "metadata": {},
   "outputs": [
    {
     "data": {
      "text/plain": [
       "Math                            93\n",
       "Science                         88\n",
       "English                         96\n",
       "History                         99\n",
       "Grade                         12th\n",
       "School Name     Wright High School\n",
       "Student Name          Victor Smith\n",
       "gender                           M\n",
       "type                      District\n",
       "size                          4976\n",
       "budget                 3.12493e+06\n",
       "dtype: object"
      ]
     },
     "execution_count": 14,
     "metadata": {},
     "output_type": "execute_result"
    }
   ],
   "source": [
    "# Display the highest grades for grade 12\n",
    "grades_df.loc[(grades_df[\"Grade\"]== \"12th\")].max()"
   ]
  },
  {
   "cell_type": "code",
   "execution_count": 15,
   "metadata": {},
   "outputs": [
    {
     "data": {
      "text/plain": [
       "Math                            56\n",
       "Science                         56\n",
       "English                         76\n",
       "History                         76\n",
       "Grade                          9th\n",
       "School Name     Beaver High School\n",
       "Student Name            Bonnie Ray\n",
       "gender                           F\n",
       "type                       Charter\n",
       "size                           427\n",
       "budget                      248087\n",
       "dtype: object"
      ]
     },
     "execution_count": 15,
     "metadata": {},
     "output_type": "execute_result"
    }
   ],
   "source": [
    "# Display the lowest grades for grade 9\n",
    "grades_df.loc[(grades_df[\"Grade\"]== \"9th\")].min()"
   ]
  },
  {
   "cell_type": "code",
   "execution_count": 16,
   "metadata": {},
   "outputs": [
    {
     "data": {
      "text/plain": [
       "Math                            93\n",
       "Science                         88\n",
       "English                         96\n",
       "History                         99\n",
       "Grade                         12th\n",
       "School Name     Wright High School\n",
       "Student Name          Victor Smith\n",
       "gender                           M\n",
       "type                      District\n",
       "size                          4976\n",
       "budget                 3.12493e+06\n",
       "dtype: object"
      ]
     },
     "execution_count": 16,
     "metadata": {},
     "output_type": "execute_result"
    }
   ],
   "source": [
    "# Display the highest grade for grade 12\n",
    "grades_df.loc[(grades_df[\"Grade\"]== \"12th\")].max()"
   ]
  },
  {
   "cell_type": "markdown",
   "metadata": {},
   "source": [
    "# Data Exploration\n",
    "- Which schools had the highest Math scores: Display results in a bar chart\n",
    "- Which schools had the highest English scores: Display result in a bar chart"
   ]
  },
  {
   "cell_type": "code",
   "execution_count": 17,
   "metadata": {},
   "outputs": [
    {
     "data": {
      "text/plain": [
       "School Name\n",
       "Bailey High School       64.0\n",
       "Beaver High School       64.0\n",
       "Bell high School         56.0\n",
       "Cabrera High School      74.0\n",
       "Figueroa High School     89.0\n",
       "Ford High School         84.0\n",
       "Griffin High School      84.0\n",
       "Hernandez High School    66.0\n",
       "Hill high School         74.0\n",
       "Holden High School       56.0\n",
       "Huang High School        80.0\n",
       "Johnson High School      66.0\n",
       "Pena High School         80.0\n",
       "Rodriguez High School    93.0\n",
       "Shelton High School      93.0\n",
       "Thomas High School       85.0\n",
       "Wilson High School       85.0\n",
       "Wright High School       89.0\n",
       "Name: Math, dtype: float64"
      ]
     },
     "execution_count": 17,
     "metadata": {},
     "output_type": "execute_result"
    }
   ],
   "source": [
    "# Highest Math score\n",
    "high_math = grades_df.groupby(\"School Name\")['Math'].max()\n",
    "high_math.head(20)"
   ]
  },
  {
   "cell_type": "code",
   "execution_count": 18,
   "metadata": {},
   "outputs": [
    {
     "data": {
      "text/plain": [
       "<matplotlib.legend.Legend at 0x1c317176fc8>"
      ]
     },
     "execution_count": 18,
     "metadata": {},
     "output_type": "execute_result"
    },
    {
     "data": {
      "image/png": "[encoded data removed]",
      "text/plain": [
       "<Figure size 720x432 with 1 Axes>"
      ]
     },
     "metadata": {
      "needs_background": "light"
     },
     "output_type": "display_data"
    }
   ],
   "source": [
    "# Graphical analysis\n",
    "high_math.plot(kind='bar',subplots=True, color='blue',figsize=(10, 6)); plt.legend()"
   ]
  },
  {
   "cell_type": "code",
   "execution_count": 19,
   "metadata": {},
   "outputs": [
    {
     "data": {
      "text/plain": [
       "School Name\n",
       "Bailey High School       60.0\n",
       "Beaver High School       91.0\n",
       "Bell high School         86.0\n",
       "Cabrera High School      92.0\n",
       "Figueroa High School     76.0\n",
       "Ford High School         92.0\n",
       "Griffin High School      77.0\n",
       "Hernandez High School    96.0\n",
       "Hill high School         92.0\n",
       "Holden High School       76.0\n",
       "Huang High School        83.0\n",
       "Johnson High School      85.0\n",
       "Pena High School         93.0\n",
       "Rodriguez High School    77.0\n",
       "Shelton High School      93.0\n",
       "Thomas High School       60.0\n",
       "Wilson High School       85.0\n",
       "Wright High School       96.0\n",
       "Name: English, dtype: float64"
      ]
     },
     "execution_count": 19,
     "metadata": {},
     "output_type": "execute_result"
    }
   ],
   "source": [
    "# Highest English score\n",
    "high_english = grades_df.groupby(\"School Name\")['English'].max()\n",
    "high_english.head(20)"
   ]
  },
  {
   "cell_type": "code",
   "execution_count": 20,
   "metadata": {},
   "outputs": [
    {
     "data": {
      "image/png": "[encoded data removed]",
      "text/plain": [
       "<Figure size 720x432 with 1 Axes>"
      ]
     },
     "metadata": {
      "needs_background": "light"
     },
     "output_type": "display_data"
    }
   ],
   "source": [
    "high_english.plot(kind='barh',subplots=True,figsize=(10, 6)); "
   ]
  },
  {
   "cell_type": "markdown",
   "metadata": {},
   "source": [
    "# High School Data Summary\n",
    "- Total number and budget for schools\n",
    "- Average English and Math scores\n",
    "- Passing grades for Math and English: Grades >=70\n",
    "- Create dataframe and display the results"
   ]
  },
  {
   "cell_type": "code",
   "execution_count": 21,
   "metadata": {},
   "outputs": [],
   "source": [
    "# Calculate the total number of High Schools\n",
    "# Calculate the total number of students\n",
    "# Calculate the total budget for all schools\n",
    "school_count = grades_df[\"School Name\"].count()\n",
    "student_count = grades_df[\"Student Name\"].count()\n",
    "total_budget = grades_df[\"budget\"].sum()"
   ]
  },
  {
   "cell_type": "code",
   "execution_count": 22,
   "metadata": {},
   "outputs": [],
   "source": [
    "# Calculate the average Math score\n",
    "# Calculate the average English score\n",
    "avg_math_score = grades_df[\"Math\"].mean()\n",
    "avg_eng_score = grades_df[\"English\"].mean()"
   ]
  },
  {
   "cell_type": "code",
   "execution_count": 23,
   "metadata": {},
   "outputs": [],
   "source": [
    "# Calculate the passing rates (>=70) for Math\n",
    "# Calculate the passing rates (>=70) for English\n",
    "passing_math = grades_df[(grades_df[\"Math\"]>=70)].count()[\"Student Name\"]\n",
    "passing_english = grades_df[(grades_df[\"English\"]>=70)].count()[\"Student Name\"]\n"
   ]
  },
  {
   "cell_type": "code",
   "execution_count": 24,
   "metadata": {},
   "outputs": [],
   "source": [
    "# Calculate the passing percentage English rate (passing_math/studentcount * 100)\n",
    "# Calculate the passing percentage English rate (passing_math/studentcount * 100)\n",
    "math_percentage = passing_math / float(student_count)*100\n",
    "english_percentage = passing_english / float(student_count)*100"
   ]
  },
  {
   "cell_type": "markdown",
   "metadata": {},
   "source": [
    "# Create a DataFrame and display the results"
   ]
  },
  {
   "cell_type": "code",
   "execution_count": 25,
   "metadata": {},
   "outputs": [],
   "source": [
    "# Create DataFrame\n",
    "high_school_summary = pd.DataFrame([{\n",
    "    \"Total Schools\": school_count,\n",
    "    \"Total Students\": student_count,\n",
    "    \"Total Budget\": total_budget,\n",
    "    \"Average Math Score\": avg_math_score,\n",
    "    \"Average English Score\": avg_eng_score,\n",
    "    \"% Passing Math\": math_percentage,\n",
    "    \"% Passing English\": english_percentage\n",
    "}])"
   ]
  },
  {
   "cell_type": "code",
   "execution_count": 26,
   "metadata": {},
   "outputs": [],
   "source": [
    "# Format Columns\n",
    "high_school_summary[\"Total Schools\"] = high_school_summary[\"Total Schools\"]\n",
    "high_school_summary[\"Total Students\"] = high_school_summary[\"Total Students\"]\n",
    "high_school_summary[\"Total Budget\"] = high_school_summary[\"Total Budget\"].map(\"${:,.2f}\".format)\n",
    "high_school_summary[\"Average Math Score\"] = high_school_summary[\"Average Math Score\"].map(\"{:.1f}\".format)\n",
    "high_school_summary[\"Average English Score\"] = high_school_summary[\"Average English Score\"].map(\"{:.1f}\".format)\n",
    "high_school_summary[\"% Passing Math\"] = high_school_summary[\"% Passing Math\"].map(\"{:.1f}\".format)\n",
    "high_school_summary[\"% Passing English\"] = high_school_summary[\"% Passing English\"].map(\"{:.1f}\".format)"
   ]
  },
  {
   "cell_type": "code",
   "execution_count": 27,
   "metadata": {},
   "outputs": [
    {
     "data": {
      "text/html": [
       "<div>\n",
       "<style scoped>\n",
       "    .dataframe tbody tr th:only-of-type {\n",
       "        vertical-align: middle;\n",
       "    }\n",
       "\n",
       "    .dataframe tbody tr th {\n",
       "        vertical-align: top;\n",
       "    }\n",
       "\n",
       "    .dataframe thead th {\n",
       "        text-align: right;\n",
       "    }\n",
       "</style>\n",
       "<table border=\"1\" class=\"dataframe\">\n",
       "  <thead>\n",
       "    <tr style=\"text-align: right;\">\n",
       "      <th></th>\n",
       "      <th>Total Schools</th>\n",
       "      <th>Total Students</th>\n",
       "      <th>Total Budget</th>\n",
       "      <th>Average Math Score</th>\n",
       "      <th>Average English Score</th>\n",
       "      <th>% Passing Math</th>\n",
       "      <th>% Passing English</th>\n",
       "    </tr>\n",
       "  </thead>\n",
       "  <tbody>\n",
       "    <tr>\n",
       "      <th>0</th>\n",
       "      <td>18</td>\n",
       "      <td>18</td>\n",
       "      <td>$26,558,207.00</td>\n",
       "      <td>76.8</td>\n",
       "      <td>83.9</td>\n",
       "      <td>66.7</td>\n",
       "      <td>88.9</td>\n",
       "    </tr>\n",
       "  </tbody>\n",
       "</table>\n",
       "</div>"
      ],
      "text/plain": [
       "   Total Schools  Total Students    Total Budget Average Math Score  \\\n",
       "0             18              18  $26,558,207.00               76.8   \n",
       "\n",
       "  Average English Score % Passing Math % Passing English  \n",
       "0                  83.9           66.7              88.9  "
      ]
     },
     "execution_count": 27,
     "metadata": {},
     "output_type": "execute_result"
    }
   ],
   "source": [
    "# Display Results\n",
    "high_school_summary"
   ]
  }
 ],
 "metadata": {
  "kernelspec": {
   "display_name": "Python 3",
   "language": "python",
   "name": "python3"
  },
  "language_info": {
   "codemirror_mode": {
    "name": "ipython",
    "version": 3
   },
   "file_extension": ".py",
   "mimetype": "text/x-python",
   "name": "python",
   "nbconvert_exporter": "python",
   "pygments_lexer": "ipython3",
   "version": "3.7.4"
  }
 },
 "nbformat": 4,
 "nbformat_minor": 4
}
