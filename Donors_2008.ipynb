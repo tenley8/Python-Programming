{
 "cells": [
  {
   "cell_type": "markdown",
   "metadata": {},
   "source": [
    "# Donation Analysis\n",
    "- We are going to run an analysis of the data collected from donations made from donors in 2008\n",
    "- From the analysis we would be able to view the following\n",
    "- A high-level snapshot of the donors key metrics, presented in a table format\n",
    "- A graphical analysis of the data\n",
    "\n",
    "# Import necessary libraries dependencies"
   ]
  },
  {
   "cell_type": "code",
   "execution_count": 1,
   "metadata": {},
   "outputs": [],
   "source": [
    "# Dependencies - Files to load\n",
    "import pandas as pd\n",
    "import numpy as np\n",
    "import matplotlib.pyplot as plt\n",
    "pd.options.mode.chained_assignment = None\n",
    "donors_df = pd.read_csv(\"Resources/donors2008.csv\")"
   ]
  },
  {
   "cell_type": "markdown",
   "metadata": {},
   "source": [
    "# Statistical Overview of DataFrame"
   ]
  },
  {
   "cell_type": "code",
   "execution_count": 2,
   "metadata": {},
   "outputs": [
    {
     "data": {
      "text/html": [
       "<div>\n",
       "<style scoped>\n",
       "    .dataframe tbody tr th:only-of-type {\n",
       "        vertical-align: middle;\n",
       "    }\n",
       "\n",
       "    .dataframe tbody tr th {\n",
       "        vertical-align: top;\n",
       "    }\n",
       "\n",
       "    .dataframe thead th {\n",
       "        text-align: right;\n",
       "    }\n",
       "</style>\n",
       "<table border=\"1\" class=\"dataframe\">\n",
       "  <thead>\n",
       "    <tr style=\"text-align: right;\">\n",
       "      <th></th>\n",
       "      <th>Amount</th>\n",
       "    </tr>\n",
       "  </thead>\n",
       "  <tbody>\n",
       "    <tr>\n",
       "      <th>count</th>\n",
       "      <td>1776.00</td>\n",
       "    </tr>\n",
       "    <tr>\n",
       "      <th>mean</th>\n",
       "      <td>659.31</td>\n",
       "    </tr>\n",
       "    <tr>\n",
       "      <th>std</th>\n",
       "      <td>1274.42</td>\n",
       "    </tr>\n",
       "    <tr>\n",
       "      <th>min</th>\n",
       "      <td>5.00</td>\n",
       "    </tr>\n",
       "    <tr>\n",
       "      <th>25%</th>\n",
       "      <td>200.00</td>\n",
       "    </tr>\n",
       "    <tr>\n",
       "      <th>50%</th>\n",
       "      <td>250.00</td>\n",
       "    </tr>\n",
       "    <tr>\n",
       "      <th>75%</th>\n",
       "      <td>500.00</td>\n",
       "    </tr>\n",
       "    <tr>\n",
       "      <th>max</th>\n",
       "      <td>5000.00</td>\n",
       "    </tr>\n",
       "  </tbody>\n",
       "</table>\n",
       "</div>"
      ],
      "text/plain": [
       "        Amount\n",
       "count  1776.00\n",
       "mean    659.31\n",
       "std    1274.42\n",
       "min       5.00\n",
       "25%     200.00\n",
       "50%     250.00\n",
       "75%     500.00\n",
       "max    5000.00"
      ]
     },
     "execution_count": 2,
     "metadata": {},
     "output_type": "execute_result"
    }
   ],
   "source": [
    "# Display a statistical overview of the dataframe\n",
    "donors_df.describe().round(2)"
   ]
  },
  {
   "cell_type": "code",
   "execution_count": 3,
   "metadata": {},
   "outputs": [
    {
     "name": "stdout",
     "output_type": "stream",
     "text": [
      "<class 'pandas.core.frame.DataFrame'>\n",
      "RangeIndex: 1776 entries, 0 to 1775\n",
      "Data columns (total 7 columns):\n",
      " #   Column     Non-Null Count  Dtype  \n",
      "---  ------     --------------  -----  \n",
      " 0   LastName   1776 non-null   object \n",
      " 1   FirstName  1776 non-null   object \n",
      " 2   Employer   1743 non-null   object \n",
      " 3   City       1776 non-null   object \n",
      " 4   State      1776 non-null   object \n",
      " 5   Zip        1776 non-null   object \n",
      " 6   Amount     1776 non-null   float64\n",
      "dtypes: float64(1), object(6)\n",
      "memory usage: 97.2+ KB\n"
     ]
    }
   ],
   "source": [
    "# Display the number of rows and columns, the data type of each column, the number of non-NaN elements, and the total memory usage.\n",
    "donors_df.info()"
   ]
  },
  {
   "cell_type": "markdown",
   "metadata": {},
   "source": [
    "# Cleaning Data\n",
    "- Determine if there is any missing values\n",
    "- Drop rows of NAN"
   ]
  },
  {
   "cell_type": "code",
   "execution_count": 4,
   "metadata": {},
   "outputs": [
    {
     "data": {
      "text/plain": [
       "LastName     1776\n",
       "FirstName    1776\n",
       "Employer     1743\n",
       "City         1776\n",
       "State        1776\n",
       "Zip          1776\n",
       "Amount       1776\n",
       "dtype: int64"
      ]
     },
     "execution_count": 4,
     "metadata": {},
     "output_type": "execute_result"
    }
   ],
   "source": [
    "# Determine if there are any missing values\n",
    "donors_df.count()"
   ]
  },
  {
   "cell_type": "code",
   "execution_count": 5,
   "metadata": {},
   "outputs": [],
   "source": [
    "# Drop missing values\n",
    "donors_df = donors_df.dropna(how='any')"
   ]
  },
  {
   "cell_type": "markdown",
   "metadata": {},
   "source": [
    "# Cleaning Names and Replacing Substrings in a Python String\n",
    "- Prefixes: \"Dr. \", \"Mr. \",\"Ms. \", \"Mrs. \", \"Miss\"\n",
    "- Suffixes: \" MD\", \" DDS\", \" DVM\", \" PhD\""
   ]
  },
  {
   "cell_type": "code",
   "execution_count": 6,
   "metadata": {},
   "outputs": [],
   "source": [
    "# Add prefix to remove it from list\n",
    "prefixes = [\"Dr. \", \"Mr. \",\"Ms. \", \"Mrs. \", \"Miss \"]\n",
    "\n",
    "# Iterate through the words in the prefix list and replace them with an empty space,\"\"\n",
    "for word in prefixes:\n",
    "    donors_df['FirstName']= donors_df['FirstName'].str.replace(word,\"\")            "
   ]
  },
  {
   "cell_type": "code",
   "execution_count": 7,
   "metadata": {},
   "outputs": [],
   "source": [
    "# Add suffix to remove it from list\n",
    "suffixes =[\" MD\", \" DDS\", \" DVM\", \" PhD\"]\n",
    "\n",
    "# Iterate through the words in the prefix list and replace them with an empty space,\"\"\n",
    "for word in suffixes:\n",
    "    donors_df['LastName'] = donors_df[\"LastName\"].str.replace(word,\"\")"
   ]
  },
  {
   "cell_type": "code",
   "execution_count": 8,
   "metadata": {},
   "outputs": [
    {
     "data": {
      "text/html": [
       "<div>\n",
       "<style scoped>\n",
       "    .dataframe tbody tr th:only-of-type {\n",
       "        vertical-align: middle;\n",
       "    }\n",
       "\n",
       "    .dataframe tbody tr th {\n",
       "        vertical-align: top;\n",
       "    }\n",
       "\n",
       "    .dataframe thead th {\n",
       "        text-align: right;\n",
       "    }\n",
       "</style>\n",
       "<table border=\"1\" class=\"dataframe\">\n",
       "  <thead>\n",
       "    <tr style=\"text-align: right;\">\n",
       "      <th></th>\n",
       "      <th>Last Name,</th>\n",
       "      <th>First Name</th>\n",
       "      <th>Employer</th>\n",
       "      <th>City</th>\n",
       "      <th>State</th>\n",
       "      <th>Zip</th>\n",
       "      <th>Amount</th>\n",
       "    </tr>\n",
       "  </thead>\n",
       "  <tbody>\n",
       "    <tr>\n",
       "      <th>0</th>\n",
       "      <td>Aaron</td>\n",
       "      <td>Eugene</td>\n",
       "      <td>State Department</td>\n",
       "      <td>Dulles</td>\n",
       "      <td>VA</td>\n",
       "      <td>20189</td>\n",
       "      <td>500.0</td>\n",
       "    </tr>\n",
       "    <tr>\n",
       "      <th>1</th>\n",
       "      <td>Abadi</td>\n",
       "      <td>Barbara</td>\n",
       "      <td>Abadi &amp; Co.</td>\n",
       "      <td>New York</td>\n",
       "      <td>NY</td>\n",
       "      <td>10021</td>\n",
       "      <td>200.0</td>\n",
       "    </tr>\n",
       "    <tr>\n",
       "      <th>2</th>\n",
       "      <td>Adamany</td>\n",
       "      <td>Anthony</td>\n",
       "      <td>Retired</td>\n",
       "      <td>Rockford</td>\n",
       "      <td>IL</td>\n",
       "      <td>61103</td>\n",
       "      <td>500.0</td>\n",
       "    </tr>\n",
       "    <tr>\n",
       "      <th>3</th>\n",
       "      <td>Adams</td>\n",
       "      <td>Lorraine</td>\n",
       "      <td>Self</td>\n",
       "      <td>New York</td>\n",
       "      <td>NY</td>\n",
       "      <td>10026</td>\n",
       "      <td>200.0</td>\n",
       "    </tr>\n",
       "    <tr>\n",
       "      <th>4</th>\n",
       "      <td>Adams</td>\n",
       "      <td>Marion</td>\n",
       "      <td>None</td>\n",
       "      <td>Exeter</td>\n",
       "      <td>NH</td>\n",
       "      <td>3833</td>\n",
       "      <td>100.0</td>\n",
       "    </tr>\n",
       "  </tbody>\n",
       "</table>\n",
       "</div>"
      ],
      "text/plain": [
       "  Last Name, First Name          Employer      City State    Zip  Amount\n",
       "0      Aaron     Eugene  State Department    Dulles    VA  20189   500.0\n",
       "1      Abadi    Barbara       Abadi & Co.  New York    NY  10021   200.0\n",
       "2    Adamany    Anthony           Retired  Rockford    IL  61103   500.0\n",
       "3      Adams   Lorraine              Self  New York    NY  10026   200.0\n",
       "4      Adams     Marion              None    Exeter    NH   3833   100.0"
      ]
     },
     "execution_count": 8,
     "metadata": {},
     "output_type": "execute_result"
    }
   ],
   "source": [
    "# Cleanup and rename columns names to more explanatory names using a ditionary\n",
    "donors_df = donors_df.rename(columns={\"LastName\": 'Last Name,',\"FirstName\": 'First Name'})\n",
    "donors_df.head()"
   ]
  },
  {
   "cell_type": "markdown",
   "metadata": {},
   "source": [
    "# Determinie data in Rows and Columns"
   ]
  },
  {
   "cell_type": "code",
   "execution_count": 9,
   "metadata": {},
   "outputs": [
    {
     "name": "stdout",
     "output_type": "stream",
     "text": [
      "   Last Name, First Name            Employer           City State    Zip  \\\n",
      "0       Aaron     Eugene    State Department         Dulles    VA  20189   \n",
      "8       Adida        Ben  Harvard University  Mountain View    CA  94043   \n",
      "48     Arnold       Marc                Self       Longmont    CO  80503   \n",
      "98     Baruch        Ann                None      Haverford    PA  19041   \n",
      "\n",
      "    Amount  \n",
      "0    500.0  \n",
      "8    200.0  \n",
      "48   200.0  \n",
      "98   500.0  \n",
      "  Last Name, First Name          Employer      City State    Zip  Amount\n",
      "0      Aaron     Eugene  State Department    Dulles    VA  20189   500.0\n",
      "1      Abadi    Barbara       Abadi & Co.  New York    NY  10021   200.0\n",
      "2    Adamany    Anthony           Retired  Rockford    IL  61103   500.0\n",
      "3      Adams   Lorraine              Self  New York    NY  10026   200.0\n"
     ]
    }
   ],
   "source": [
    "# Display the 1st, 9th, 49, and 99th row information\n",
    "# Display rows 0 to 3\n",
    "test1=donors_df.loc[[0,8,48,98]]\n",
    "test2=donors_df.loc[0:3]\n",
    "print(test1)\n",
    "print(test2)"
   ]
  },
  {
   "cell_type": "code",
   "execution_count": 10,
   "metadata": {},
   "outputs": [
    {
     "name": "stdout",
     "output_type": "stream",
     "text": [
      "     Last Name, First Name                         Employer           City  \\\n",
      "823     Kaufman    Harriet                             Self       New York   \n",
      "321      Corroo   Mary Coe                        Bob Evans     Cape Coral   \n",
      "1211     Parker       Lisa  Lawrence Welk Family Foundation   Santa Monica   \n",
      "448       Emery    Deborah          Califronia Men's Colony  Arroyo Grande   \n",
      "1336      Rolls     Harold                             None     Fort Plain   \n",
      "562       Gibbs      Vicki                             Self      Roseville   \n",
      "1775    Zyskind        Jon                     JDS Uniphase        Concord   \n",
      "1126    Naegele     Cushla                   VOS Selections       New York   \n",
      "1197      Paley   Patricia      NYC Department of Education       Brooklyn   \n",
      "1218   Pawlenko    Natalie                           NJDHSS      Princeton   \n",
      "\n",
      "     State         Zip  Amount  \n",
      "823     NY       10003     5.0  \n",
      "321     FL       33990     5.0  \n",
      "1211    CA       90404    10.0  \n",
      "448     CA       93420    15.0  \n",
      "1336    NY       13339    20.0  \n",
      "562     CA  95661-5402    20.0  \n",
      "1775    MA       10742    25.0  \n",
      "1126    NY       10025    25.0  \n",
      "1197    NY  11238-4001    25.0  \n",
      "1218    NJ        8540    25.0  \n"
     ]
    }
   ],
   "source": [
    "# test1- sort dataframe based on a column value['amount'] lowest to highest (ASC)\n",
    "test1 = donors_df.sort_values(by='Amount', ascending=True).head(10)\n",
    "print(test1)"
   ]
  },
  {
   "cell_type": "code",
   "execution_count": 11,
   "metadata": {},
   "outputs": [
    {
     "data": {
      "text/html": [
       "<div>\n",
       "<style scoped>\n",
       "    .dataframe tbody tr th:only-of-type {\n",
       "        vertical-align: middle;\n",
       "    }\n",
       "\n",
       "    .dataframe tbody tr th {\n",
       "        vertical-align: top;\n",
       "    }\n",
       "\n",
       "    .dataframe thead th {\n",
       "        text-align: right;\n",
       "    }\n",
       "</style>\n",
       "<table border=\"1\" class=\"dataframe\">\n",
       "  <thead>\n",
       "    <tr style=\"text-align: right;\">\n",
       "      <th></th>\n",
       "      <th>First Name</th>\n",
       "      <th>City</th>\n",
       "      <th>Zip</th>\n",
       "    </tr>\n",
       "  </thead>\n",
       "  <tbody>\n",
       "    <tr>\n",
       "      <th>1</th>\n",
       "      <td>Barbara</td>\n",
       "      <td>New York</td>\n",
       "      <td>10021</td>\n",
       "    </tr>\n",
       "    <tr>\n",
       "      <th>3</th>\n",
       "      <td>Lorraine</td>\n",
       "      <td>New York</td>\n",
       "      <td>10026</td>\n",
       "    </tr>\n",
       "    <tr>\n",
       "      <th>4</th>\n",
       "      <td>Marion</td>\n",
       "      <td>Exeter</td>\n",
       "      <td>3833</td>\n",
       "    </tr>\n",
       "  </tbody>\n",
       "</table>\n",
       "</div>"
      ],
      "text/plain": [
       "  First Name      City    Zip\n",
       "1    Barbara  New York  10021\n",
       "3   Lorraine  New York  10026\n",
       "4     Marion    Exeter   3833"
      ]
     },
     "execution_count": 11,
     "metadata": {},
     "output_type": "execute_result"
    }
   ],
   "source": [
    "# Display the data from the 2nd, 4th, and 6th columns showing rows 1,3 and 4\n",
    "donors_df.loc[[1,3,4],[\"First Name\",\"City\",\"Zip\"]]"
   ]
  },
  {
   "cell_type": "code",
   "execution_count": 12,
   "metadata": {},
   "outputs": [
    {
     "data": {
      "text/plain": [
       "0      Aaron\n",
       "1      Abadi\n",
       "2    Adamany\n",
       "3      Adams\n",
       "4      Adams\n",
       "Name: Last Name,, dtype: object"
      ]
     },
     "execution_count": 12,
     "metadata": {},
     "output_type": "execute_result"
    }
   ],
   "source": [
    "# Print the data from the the first column\n",
    "donors_df.iloc[:,0].head()"
   ]
  },
  {
   "cell_type": "code",
   "execution_count": 13,
   "metadata": {},
   "outputs": [
    {
     "data": {
      "text/html": [
       "<div>\n",
       "<style scoped>\n",
       "    .dataframe tbody tr th:only-of-type {\n",
       "        vertical-align: middle;\n",
       "    }\n",
       "\n",
       "    .dataframe tbody tr th {\n",
       "        vertical-align: top;\n",
       "    }\n",
       "\n",
       "    .dataframe thead th {\n",
       "        text-align: right;\n",
       "    }\n",
       "</style>\n",
       "<table border=\"1\" class=\"dataframe\">\n",
       "  <thead>\n",
       "    <tr style=\"text-align: right;\">\n",
       "      <th></th>\n",
       "      <th>Last Name,</th>\n",
       "      <th>First Name</th>\n",
       "      <th>Employer</th>\n",
       "    </tr>\n",
       "  </thead>\n",
       "  <tbody>\n",
       "    <tr>\n",
       "      <th>1769</th>\n",
       "      <td>Zeluf</td>\n",
       "      <td>Craig</td>\n",
       "      <td>TD Ameritrade</td>\n",
       "    </tr>\n",
       "    <tr>\n",
       "      <th>1770</th>\n",
       "      <td>Zimmer</td>\n",
       "      <td>Charles</td>\n",
       "      <td>RZO LLC / QED Productions</td>\n",
       "    </tr>\n",
       "    <tr>\n",
       "      <th>1771</th>\n",
       "      <td>Zinczenko</td>\n",
       "      <td>David</td>\n",
       "      <td>Rodale</td>\n",
       "    </tr>\n",
       "    <tr>\n",
       "      <th>1774</th>\n",
       "      <td>Zwerdling</td>\n",
       "      <td>David</td>\n",
       "      <td>Montg Cnty, Md</td>\n",
       "    </tr>\n",
       "    <tr>\n",
       "      <th>1775</th>\n",
       "      <td>Zyskind</td>\n",
       "      <td>Jon</td>\n",
       "      <td>JDS Uniphase</td>\n",
       "    </tr>\n",
       "  </tbody>\n",
       "</table>\n",
       "</div>"
      ],
      "text/plain": [
       "     Last Name, First Name                   Employer\n",
       "1769      Zeluf      Craig              TD Ameritrade\n",
       "1770     Zimmer    Charles  RZO LLC / QED Productions\n",
       "1771  Zinczenko      David                     Rodale\n",
       "1774  Zwerdling      David             Montg Cnty, Md\n",
       "1775    Zyskind        Jon               JDS Uniphase"
      ]
     },
     "execution_count": 13,
     "metadata": {},
     "output_type": "execute_result"
    }
   ],
   "source": [
    "# Print data from the first three coluns showing last five rows\n",
    "donors_df.iloc[:, 0:3].tail()"
   ]
  },
  {
   "cell_type": "code",
   "execution_count": 14,
   "metadata": {},
   "outputs": [
    {
     "data": {
      "text/plain": [
       "0      Eugene\n",
       "1     Barbara\n",
       "2     Anthony\n",
       "3    Lorraine\n",
       "4      Marion\n",
       "Name: First Name, dtype: object"
      ]
     },
     "execution_count": 14,
     "metadata": {},
     "output_type": "execute_result"
    }
   ],
   "source": [
    "# Print data from the first three coluns showing last five rows\n",
    "donors_df.iloc[:, 1].head()"
   ]
  },
  {
   "cell_type": "code",
   "execution_count": 15,
   "metadata": {},
   "outputs": [
    {
     "data": {
      "text/html": [
       "<div>\n",
       "<style scoped>\n",
       "    .dataframe tbody tr th:only-of-type {\n",
       "        vertical-align: middle;\n",
       "    }\n",
       "\n",
       "    .dataframe tbody tr th {\n",
       "        vertical-align: top;\n",
       "    }\n",
       "\n",
       "    .dataframe thead th {\n",
       "        text-align: right;\n",
       "    }\n",
       "</style>\n",
       "<table border=\"1\" class=\"dataframe\">\n",
       "  <thead>\n",
       "    <tr style=\"text-align: right;\">\n",
       "      <th></th>\n",
       "      <th>Last Name,</th>\n",
       "      <th>First Name</th>\n",
       "      <th>Employer</th>\n",
       "      <th>City</th>\n",
       "      <th>State</th>\n",
       "      <th>Zip</th>\n",
       "      <th>Amount</th>\n",
       "    </tr>\n",
       "  </thead>\n",
       "  <tbody>\n",
       "    <tr>\n",
       "      <th>1</th>\n",
       "      <td>Abadi</td>\n",
       "      <td>Barbara</td>\n",
       "      <td>Abadi &amp; Co.</td>\n",
       "      <td>New York</td>\n",
       "      <td>NY</td>\n",
       "      <td>10021</td>\n",
       "      <td>200.0</td>\n",
       "    </tr>\n",
       "    <tr>\n",
       "      <th>3</th>\n",
       "      <td>Adams</td>\n",
       "      <td>Lorraine</td>\n",
       "      <td>Self</td>\n",
       "      <td>New York</td>\n",
       "      <td>NY</td>\n",
       "      <td>10026</td>\n",
       "      <td>200.0</td>\n",
       "    </tr>\n",
       "  </tbody>\n",
       "</table>\n",
       "</div>"
      ],
      "text/plain": [
       "  Last Name, First Name     Employer      City State    Zip  Amount\n",
       "1      Abadi    Barbara  Abadi & Co.  New York    NY  10021   200.0\n",
       "3      Adams   Lorraine         Self  New York    NY  10026   200.0"
      ]
     },
     "execution_count": 15,
     "metadata": {},
     "output_type": "execute_result"
    }
   ],
   "source": [
    "# Print row 1 and row 3 with all columns\n",
    "donors_df.iloc[[1,3], :]"
   ]
  },
  {
   "cell_type": "code",
   "execution_count": 16,
   "metadata": {},
   "outputs": [
    {
     "data": {
      "text/plain": [
       "'Lorraine'"
      ]
     },
     "execution_count": 16,
     "metadata": {},
     "output_type": "execute_result"
    }
   ],
   "source": [
    "# Display the name 'Lorraine (4th row second column)\n",
    "donors_df.iloc[3,1]"
   ]
  },
  {
   "cell_type": "markdown",
   "metadata": {},
   "source": [
    "# Donors Donation Summary\n",
    "- Donations by city [New York]\n",
    "- Donations by state [Maryland, MD]\n",
    "- Donation over $1,000.00\n",
    "- Maximum & Minimum values donated by state\n",
    "- Mean(average) donation by state"
   ]
  },
  {
   "cell_type": "code",
   "execution_count": 17,
   "metadata": {},
   "outputs": [
    {
     "data": {
      "text/html": [
       "<div>\n",
       "<style scoped>\n",
       "    .dataframe tbody tr th:only-of-type {\n",
       "        vertical-align: middle;\n",
       "    }\n",
       "\n",
       "    .dataframe tbody tr th {\n",
       "        vertical-align: top;\n",
       "    }\n",
       "\n",
       "    .dataframe thead th {\n",
       "        text-align: right;\n",
       "    }\n",
       "</style>\n",
       "<table border=\"1\" class=\"dataframe\">\n",
       "  <thead>\n",
       "    <tr style=\"text-align: right;\">\n",
       "      <th></th>\n",
       "      <th>First Name</th>\n",
       "    </tr>\n",
       "  </thead>\n",
       "  <tbody>\n",
       "    <tr>\n",
       "      <th>1</th>\n",
       "      <td>Barbara</td>\n",
       "    </tr>\n",
       "    <tr>\n",
       "      <th>3</th>\n",
       "      <td>Lorraine</td>\n",
       "    </tr>\n",
       "    <tr>\n",
       "      <th>16</th>\n",
       "      <td>Carolyn</td>\n",
       "    </tr>\n",
       "    <tr>\n",
       "      <th>30</th>\n",
       "      <td>Razi</td>\n",
       "    </tr>\n",
       "    <tr>\n",
       "      <th>42</th>\n",
       "      <td>Alexandros</td>\n",
       "    </tr>\n",
       "  </tbody>\n",
       "</table>\n",
       "</div>"
      ],
      "text/plain": [
       "    First Name\n",
       "1      Barbara\n",
       "3     Lorraine\n",
       "16     Carolyn\n",
       "30        Razi\n",
       "42  Alexandros"
      ]
     },
     "execution_count": 17,
     "metadata": {},
     "output_type": "execute_result"
    }
   ],
   "source": [
    "# Display the First Name of the donors from New York(five rows only)\n",
    "donors_df.loc[donors_df[\"City\"]=='New York',[\"First Name\"]].head()"
   ]
  },
  {
   "cell_type": "code",
   "execution_count": 18,
   "metadata": {},
   "outputs": [
    {
     "data": {
      "text/html": [
       "<div>\n",
       "<style scoped>\n",
       "    .dataframe tbody tr th:only-of-type {\n",
       "        vertical-align: middle;\n",
       "    }\n",
       "\n",
       "    .dataframe tbody tr th {\n",
       "        vertical-align: top;\n",
       "    }\n",
       "\n",
       "    .dataframe thead th {\n",
       "        text-align: right;\n",
       "    }\n",
       "</style>\n",
       "<table border=\"1\" class=\"dataframe\">\n",
       "  <thead>\n",
       "    <tr style=\"text-align: right;\">\n",
       "      <th></th>\n",
       "      <th>First Name</th>\n",
       "    </tr>\n",
       "  </thead>\n",
       "  <tbody>\n",
       "    <tr>\n",
       "      <th>7</th>\n",
       "      <td>Clifford</td>\n",
       "    </tr>\n",
       "    <tr>\n",
       "      <th>20</th>\n",
       "      <td>Bruce</td>\n",
       "    </tr>\n",
       "    <tr>\n",
       "      <th>40</th>\n",
       "      <td>Mahlon</td>\n",
       "    </tr>\n",
       "    <tr>\n",
       "      <th>62</th>\n",
       "      <td>Margaret</td>\n",
       "    </tr>\n",
       "    <tr>\n",
       "      <th>69</th>\n",
       "      <td>Sandra</td>\n",
       "    </tr>\n",
       "  </tbody>\n",
       "</table>\n",
       "</div>"
      ],
      "text/plain": [
       "   First Name\n",
       "7    Clifford\n",
       "20      Bruce\n",
       "40     Mahlon\n",
       "62   Margaret\n",
       "69     Sandra"
      ]
     },
     "execution_count": 18,
     "metadata": {},
     "output_type": "execute_result"
    }
   ],
   "source": [
    "# Display donors from the state of Maryland (MD)\n",
    "donors_df.loc[donors_df[\"State\"]== \"MD\",[\"First Name\"]].head()"
   ]
  },
  {
   "cell_type": "code",
   "execution_count": 19,
   "metadata": {},
   "outputs": [
    {
     "data": {
      "text/html": [
       "<div>\n",
       "<style scoped>\n",
       "    .dataframe tbody tr th:only-of-type {\n",
       "        vertical-align: middle;\n",
       "    }\n",
       "\n",
       "    .dataframe tbody tr th {\n",
       "        vertical-align: top;\n",
       "    }\n",
       "\n",
       "    .dataframe thead th {\n",
       "        text-align: right;\n",
       "    }\n",
       "</style>\n",
       "<table border=\"1\" class=\"dataframe\">\n",
       "  <thead>\n",
       "    <tr style=\"text-align: right;\">\n",
       "      <th></th>\n",
       "      <th>First Name</th>\n",
       "    </tr>\n",
       "  </thead>\n",
       "  <tbody>\n",
       "    <tr>\n",
       "      <th>9</th>\n",
       "      <td>Michael M.</td>\n",
       "    </tr>\n",
       "    <tr>\n",
       "      <th>11</th>\n",
       "      <td>Alexander</td>\n",
       "    </tr>\n",
       "    <tr>\n",
       "      <th>15</th>\n",
       "      <td>Ben</td>\n",
       "    </tr>\n",
       "    <tr>\n",
       "      <th>25</th>\n",
       "      <td>Ralph</td>\n",
       "    </tr>\n",
       "    <tr>\n",
       "      <th>27</th>\n",
       "      <td>Jeremy</td>\n",
       "    </tr>\n",
       "  </tbody>\n",
       "</table>\n",
       "</div>"
      ],
      "text/plain": [
       "    First Name\n",
       "9   Michael M.\n",
       "11   Alexander\n",
       "15         Ben\n",
       "25       Ralph\n",
       "27      Jeremy"
      ]
     },
     "execution_count": 19,
     "metadata": {},
     "output_type": "execute_result"
    }
   ],
   "source": [
    "# display donors who donated $1000 or more (first 5)\n",
    "donors_df.loc[donors_df['Amount']>= 1000,['First Name']].head()"
   ]
  },
  {
   "cell_type": "code",
   "execution_count": 20,
   "metadata": {},
   "outputs": [
    {
     "name": "stdout",
     "output_type": "stream",
     "text": [
      "State\n",
      "AE    $100.00\n",
      "AK     $50.00\n",
      "AL     $50.00\n",
      "AP    $200.00\n",
      "AR    $100.00\n",
      "Name: Amount, dtype: object\n",
      "State\n",
      "AE      $100.00\n",
      "AK      $500.00\n",
      "AL      $500.00\n",
      "AP      $200.00\n",
      "AR    $1,000.00\n",
      "Name: Amount, dtype: object\n"
     ]
    }
   ],
   "source": [
    "# What is the minimum and maximum amount donated by each state(show five and dollar value)\n",
    "min_df=donors_df.groupby('State')['Amount'].min().map(\"${:,.2f}\".format).head()\n",
    "max_df=donors_df.groupby('State')['Amount'].max().map(\"${:,.2f}\".format).head()\n",
    "print(min_df)\n",
    "print(max_df)"
   ]
  },
  {
   "cell_type": "code",
   "execution_count": 21,
   "metadata": {},
   "outputs": [
    {
     "data": {
      "text/plain": [
       "State\n",
       "AE    $100.00\n",
       "AK    $175.00\n",
       "AL    $212.50\n",
       "AP    $200.00\n",
       "AR    $350.00\n",
       "AZ    $206.00\n",
       "CA    $692.23\n",
       "CO    $851.25\n",
       "CT    $825.71\n",
       "DC    $647.12\n",
       "Name: Amount, dtype: object"
      ]
     },
     "execution_count": 21,
     "metadata": {},
     "output_type": "execute_result"
    }
   ],
   "source": [
    "# What is the average donation amount per state (show ten and dollar value)\n",
    "donors_df.groupby(\"State\")[\"Amount\"].mean().map(\"${:,.2f}\".format).head(10)"
   ]
  },
  {
   "cell_type": "markdown",
   "metadata": {},
   "source": [
    "# Donors Percentage Summary\n",
    "- States Donation Percentage\n",
    "- Cities Donation Percentage\n",
    "- Average Donation by State "
   ]
  },
  {
   "cell_type": "code",
   "execution_count": 22,
   "metadata": {},
   "outputs": [],
   "source": [
    "# Get the percentage donation value for state\n",
    "# Get the percentage donation value for city\n",
    "\n",
    "# First calculate the total amount for each state and then each city\n",
    "# then  divide it by the total amount of donation collected and * 100\n",
    "pcnt_state = donors_df.groupby(\"State\")['Amount'].sum()\n",
    "pcnt_city = donors_df.groupby(\"City\")[\"Amount\"].sum()\n",
    "donors_total = donors_df['Amount'].sum()"
   ]
  },
  {
   "cell_type": "code",
   "execution_count": 23,
   "metadata": {},
   "outputs": [],
   "source": [
    "percentage_state = pcnt_state/ float(donors_total) * 100\n",
    "percentage_city = pcnt_city/ float(donors_total) * 100"
   ]
  },
  {
   "cell_type": "code",
   "execution_count": 24,
   "metadata": {},
   "outputs": [],
   "source": [
    "# Average Donations by State\n",
    "# Average Donations by City\n",
    "avg_state = donors_df.groupby(\"State\")[\"Amount\"].mean()\n",
    "avg_city = donors_df.groupby(\"City\")[\"Amount\"].mean()"
   ]
  },
  {
   "cell_type": "markdown",
   "metadata": {},
   "source": [
    "# Graphical Summary\n",
    "- Percentage of Donation by State\n",
    "- Average Donaton by State \n",
    "- Maxiumum Donations by State\n",
    "- Minimum Donations by State"
   ]
  },
  {
   "cell_type": "code",
   "execution_count": 25,
   "metadata": {},
   "outputs": [
    {
     "data": {
      "text/plain": [
       "State\n",
       "AE     0.008963\n",
       "AK     0.094108\n",
       "AL     0.152366\n",
       "AP     0.017925\n",
       "AR     0.156847\n",
       "AZ     0.461578\n",
       "CA    22.397384\n",
       "CO     3.051793\n",
       "CT     2.590215\n",
       "DC     3.015943\n",
       "Name: Amount, dtype: float64"
      ]
     },
     "execution_count": 25,
     "metadata": {},
     "output_type": "execute_result"
    },
    {
     "data": {
      "image/png": "[encoded data removed]",
      "text/plain": [
       "<Figure size 1152x432 with 1 Axes>"
      ]
     },
     "metadata": {
      "needs_background": "light"
     },
     "output_type": "display_data"
    }
   ],
   "source": [
    "# Percentage of donations by state\n",
    "percentage_state.plot(kind='bar',subplots=True, color='blue',figsize=(16, 6)); plt.legend()\n",
    "percentage_state.head(10)"
   ]
  },
  {
   "cell_type": "code",
   "execution_count": 26,
   "metadata": {},
   "outputs": [
    {
     "data": {
      "text/plain": [
       "State\n",
       "AE    100.000000\n",
       "AK    175.000000\n",
       "AL    212.500000\n",
       "AP    200.000000\n",
       "AR    350.000000\n",
       "AZ    206.000000\n",
       "CA    692.232687\n",
       "CO    851.250000\n",
       "CT    825.714286\n",
       "DC    647.115385\n",
       "Name: Amount, dtype: float64"
      ]
     },
     "execution_count": 26,
     "metadata": {},
     "output_type": "execute_result"
    },
    {
     "data": {
      "image/png": "[encoded data removed]",
      "text/plain": [
       "<Figure size 1008x288 with 1 Axes>"
      ]
     },
     "metadata": {
      "needs_background": "light"
     },
     "output_type": "display_data"
    }
   ],
   "source": [
    "# Average donations by state\n",
    "avg_state.plot(kind='bar',subplots=True,figsize=(14,4))\n",
    "avg_state.head(10)"
   ]
  },
  {
   "cell_type": "code",
   "execution_count": 27,
   "metadata": {},
   "outputs": [
    {
     "data": {
      "text/plain": [
       "State\n",
       "AE     100.0\n",
       "AK     500.0\n",
       "AL     500.0\n",
       "AP     200.0\n",
       "AR    1000.0\n",
       "AZ     500.0\n",
       "CA    5000.0\n",
       "CO    5000.0\n",
       "CT    5000.0\n",
       "DC    5000.0\n",
       "Name: Amount, dtype: float64"
      ]
     },
     "execution_count": 27,
     "metadata": {},
     "output_type": "execute_result"
    }
   ],
   "source": [
    "# Maximun donations by state\n",
    "max_df=donors_df.groupby('State')['Amount'].max()\n",
    "max_df.head(10)"
   ]
  },
  {
   "cell_type": "code",
   "execution_count": 28,
   "metadata": {},
   "outputs": [
    {
     "data": {
      "text/plain": [
       "<matplotlib.legend.Legend at 0x22197229d48>"
      ]
     },
     "execution_count": 28,
     "metadata": {},
     "output_type": "execute_result"
    },
    {
     "data": {
      "image/png": "[encoded data removed]",
      "text/plain": [
       "<Figure size 1152x288 with 1 Axes>"
      ]
     },
     "metadata": {
      "needs_background": "light"
     },
     "output_type": "display_data"
    }
   ],
   "source": [
    "max_df.plot(kind='bar',subplots=True, color='red',figsize=(16, 4)); plt.legend()"
   ]
  },
  {
   "cell_type": "code",
   "execution_count": 29,
   "metadata": {},
   "outputs": [
    {
     "data": {
      "text/plain": [
       "State\n",
       "AE    100.0\n",
       "AK     50.0\n",
       "AL     50.0\n",
       "AP    200.0\n",
       "AR    100.0\n",
       "AZ     25.0\n",
       "CA     10.0\n",
       "CO     50.0\n",
       "CT     25.0\n",
       "DC     25.0\n",
       "Name: Amount, dtype: float64"
      ]
     },
     "execution_count": 29,
     "metadata": {},
     "output_type": "execute_result"
    }
   ],
   "source": [
    "# Minimum donations by state\n",
    "min_df=donors_df.groupby('State')['Amount'].min()\n",
    "min_df.head(10)"
   ]
  },
  {
   "cell_type": "code",
   "execution_count": 30,
   "metadata": {},
   "outputs": [
    {
     "data": {
      "text/plain": [
       "<matplotlib.legend.Legend at 0x22196ef3208>"
      ]
     },
     "execution_count": 30,
     "metadata": {},
     "output_type": "execute_result"
    },
    {
     "data": {
      "image/png": "[encoded data removed]",
      "text/plain": [
       "<Figure size 1152x288 with 1 Axes>"
      ]
     },
     "metadata": {
      "needs_background": "light"
     },
     "output_type": "display_data"
    }
   ],
   "source": [
    "\n",
    "min_df.plot(kind='bar',subplots=True, color='red',figsize=(16, 4)); plt.legend()"
   ]
  }
 ],
 "metadata": {
  "kernelspec": {
   "display_name": "Python 3",
   "language": "python",
   "name": "python3"
  },
  "language_info": {
   "codemirror_mode": {
    "name": "ipython",
    "version": 3
   },
   "file_extension": ".py",
   "mimetype": "text/x-python",
   "name": "python",
   "nbconvert_exporter": "python",
   "pygments_lexer": "ipython3",
   "version": "3.7.4"
  }
 },
 "nbformat": 4,
 "nbformat_minor": 4
}
